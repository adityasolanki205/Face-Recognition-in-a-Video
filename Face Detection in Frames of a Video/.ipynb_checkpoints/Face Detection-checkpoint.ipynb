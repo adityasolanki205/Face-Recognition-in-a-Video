{
 "cells": [
  {
   "cell_type": "code",
   "execution_count": 5,
   "metadata": {},
   "outputs": [],
   "source": [
    "import numpy as np\n",
    "import cv2\n",
    "import mtcnn\n",
    "from mtcnn import MTCNN"
   ]
  },
  {
   "cell_type": "code",
   "execution_count": 6,
   "metadata": {},
   "outputs": [],
   "source": [
    "cap = cv2.VideoCapture('../data/one.mp4')\n",
    "#cap = cv2.VideoCapture(0)\n",
    "frame_width = int(cap.get(3)) \n",
    "frame_height = int(cap.get(4)) \n",
    "fourcc = cv2.VideoWriter_fourcc(*'XVID')\n",
    "out = cv2.VideoWriter('output.avi',fourcc, 20.0, (frame_width,frame_height))\n",
    "detector= MTCNN()"
   ]
  },
  {
   "cell_type": "code",
   "execution_count": 7,
   "metadata": {},
   "outputs": [],
   "source": [
    "while(cap.isOpened()):\n",
    "    # Capture frame-by-frame\n",
    "    ret, frame = cap.read()\n",
    "    if ret == True:\n",
    "        result = detector.detect_faces(frame)\n",
    "        if result == []:\n",
    "            #cv2.imshow('frame',frame)\n",
    "            out.write(frame)\n",
    "        else:\n",
    "            for i in range(len(result)):\n",
    "                x1, y1, width, height = 0 ,0 ,0 ,0\n",
    "                #print(result[i]['confidence'])\n",
    "                x1, y1, width, height = result[i]['box']\n",
    "                percent = result[i]['confidence']\n",
    "                x1, y1 = abs(x1) , abs(y1)\n",
    "                x2, y2 = abs(x1) + width , abs(y1) + height \n",
    "                start_point = (x1, y2)  \n",
    "                # represents the bottom right corner of rectangle \n",
    "                end_point = (x2, y1) \n",
    "                # Blue color in BGR \n",
    "                color = (0,0,255) \n",
    "                # Line thickness of 2 px\n",
    "                if percent > .95:\n",
    "                    thickness = 2\n",
    "                    image = cv2.rectangle(frame, start_point, end_point, color, thickness)\n",
    "            #cv2.imshow('frame',frame)\n",
    "            out.write(image)\n",
    "        if cv2.waitKey(1) & 0xFF == ord('q'): \n",
    "            break\n",
    "    else:  \n",
    "        break\n",
    "\n",
    "# When everything is done, release the captura\n",
    "cap.release()\n",
    "out.release() \n",
    "cv2.destroyAllWindows() "
   ]
  },
  {
   "cell_type": "code",
   "execution_count": null,
   "metadata": {},
   "outputs": [],
   "source": []
  }
 ],
 "metadata": {
  "kernelspec": {
   "display_name": "Python 3",
   "language": "python",
   "name": "python3"
  },
  "language_info": {
   "codemirror_mode": {
    "name": "ipython",
    "version": 3
   },
   "file_extension": ".py",
   "mimetype": "text/x-python",
   "name": "python",
   "nbconvert_exporter": "python",
   "pygments_lexer": "ipython3",
   "version": "3.7.7"
  }
 },
 "nbformat": 4,
 "nbformat_minor": 4
}
