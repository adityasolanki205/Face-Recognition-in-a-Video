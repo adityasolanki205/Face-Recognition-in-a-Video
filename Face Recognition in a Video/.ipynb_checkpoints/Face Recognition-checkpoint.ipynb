{
 "cells": [
  {
   "cell_type": "code",
   "execution_count": 3,
   "metadata": {},
   "outputs": [
    {
     "name": "stderr",
     "output_type": "stream",
     "text": [
      "Using TensorFlow backend.\n"
     ]
    }
   ],
   "source": [
    "import numpy as np\n",
    "import cv2\n",
    "import mtcnn\n",
    "from mtcnn import MTCNN\n",
    "import tensorflow as tf\n",
    "import PIL\n",
    "from PIL import Image , ImageDraw, ImageFont\n",
    "import pandas as pd\n",
    "from IPython.display import display\n",
    "import os\n",
    "import matplotlib.pyplot as pyplot\n",
    "from tensorflow.keras.models import load_model\n",
    "from sklearn.preprocessing import Normalizer, LabelEncoder\n",
    "from sklearn.svm import SVC\n",
    "from sklearn.metrics import accuracy_score\n",
    "import joblib "
   ]
  },
  {
   "cell_type": "code",
   "execution_count": 4,
   "metadata": {},
   "outputs": [],
   "source": [
    "def font_size(width):\n",
    "    thickness,font,text_add = 0,0,0\n",
    "    if  width >= 700 :\n",
    "        #width  = 743\n",
    "        thickness  = 5\n",
    "        font  = 120\n",
    "        text_add = 80\n",
    "    elif (width >= 650 and width < 700) :\n",
    "        #width  = 660\n",
    "        thickness  = 5\n",
    "        font  = 110\n",
    "        text_add = 60\n",
    "    elif (width >= 600 and width < 650) :\n",
    "        #width  = 601\n",
    "        thickness  = 4\n",
    "        font  = 100\n",
    "        text_add = 40\n",
    "    elif (width >= 550 and width < 600) :\n",
    "        #width  = 527\n",
    "        thickness  = 4\n",
    "        font  = 85\n",
    "        text_add = 35\n",
    "    elif (width >= 500 and width < 550) :\n",
    "        #width  = 527\n",
    "        thickness  = 4\n",
    "        font  = 90\n",
    "        text_add = 30\n",
    "    elif (width >= 450 and width < 500 ):\n",
    "        # width  = 451\n",
    "        thickness  = 3\n",
    "        font  = 80\n",
    "        text_add  = 25\n",
    "    elif (width >= 400 and width < 450) :\n",
    "        #width  = 380\n",
    "        thickness  = 2\n",
    "        font  = 73\n",
    "        text_add  = 20\n",
    "    elif (width >= 350 and width < 400) :\n",
    "        #width  = 380\n",
    "        thickness  = 2\n",
    "        font  = 70\n",
    "        text_add  = 20\n",
    "    elif (width >= 300 and width < 350) :\n",
    "        #width  = 290\n",
    "        thickness  = 2\n",
    "        font  = 60\n",
    "        text_add  = 15\n",
    "    elif (width >= 250 and width < 300) :\n",
    "        #width  = 290\n",
    "        thickness  = 2\n",
    "        font  = 50\n",
    "        text_add  = 10\n",
    "    elif (width >= 200 and width < 250) :\n",
    "        #width  = 238\n",
    "        thickness  = 2\n",
    "        font  = 40\n",
    "        text_add  = 8\n",
    "    else: \n",
    "        #width  = 156\n",
    "        thickness  = 2\n",
    "        font  = 30\n",
    "        text_add  = 5\n",
    "    return thickness, font , text_add "
   ]
  },
  {
   "cell_type": "code",
   "execution_count": 5,
   "metadata": {},
   "outputs": [],
   "source": [
    "def load_models():\n",
    "    FaceNet = load_model('../keras-facenet/model/facenet_keras.h5')\n",
    "\n",
    "    SVM_model = joblib.load('../Face Recognition/SVM_model.pkl')\n",
    "\n",
    "    name = joblib.load('../Face Recognition/label.pkl')\n",
    "\n",
    "    normalizer = Normalizer(norm = 'l2')\n",
    "    detector = MTCNN()\n",
    "    return FaceNet, SVM_model, name, normalizer, detector"
   ]
  },
  {
   "cell_type": "code",
   "execution_count": 6,
   "metadata": {},
   "outputs": [
    {
     "name": "stdout",
     "output_type": "stream",
     "text": [
      "WARNING:tensorflow:No training configuration found in save file: the model was *not* compiled. Compile it manually.\n"
     ]
    }
   ],
   "source": [
    "FaceNet, SVM_model, name, normalizer, detector = load_models()"
   ]
  },
  {
   "cell_type": "code",
   "execution_count": 24,
   "metadata": {},
   "outputs": [],
   "source": [
    "cap = cv2.VideoCapture('../data/ben_batman.mp4')\n",
    "#cap = cv2.VideoCapture(0)\n",
    "frame_width = int(cap.get(3)) \n",
    "frame_height = int(cap.get(4)) \n",
    "fourcc = cv2.VideoWriter_fourcc(*'XVID')\n",
    "out = cv2.VideoWriter('output.avi',fourcc, 24.0, (frame_width,frame_height))"
   ]
  },
  {
   "cell_type": "code",
   "execution_count": 25,
   "metadata": {},
   "outputs": [],
   "source": [
    "while(cap.isOpened()):\n",
    "    # Capture frame-by-frame\n",
    "    ret, frame = cap.read()\n",
    "    if ret == True:\n",
    "        result = detector.detect_faces(frame)\n",
    "        if result == []:\n",
    "            #cv2.imshow('frame',frame)\n",
    "            out.write(frame)\n",
    "            continue\n",
    "        else:\n",
    "            for i in range(len(result)):\n",
    "                x1, y1, width, height = 0 ,0 ,0 ,0\n",
    "                #print(result[i]['confidence'])\n",
    "                x1, y1, width, height = result[i]['box']\n",
    "                percent = result[i]['confidence']\n",
    "                x1, y1 = abs(x1) , abs(y1)\n",
    "                x2, y2 = abs(x1) + width , abs(y1) + height \n",
    "                start_point = (x1, y2)  \n",
    "                # represents the bottom right corner of rectangle \n",
    "                end_point = (x2, y1) \n",
    "                if percent > .95:\n",
    "                    image = cv2.cvtColor(frame, cv2.COLOR_BGR2RGB)\n",
    "                    #print (image.shape)\n",
    "                    face = image[y1:y2, x1:x2]\n",
    "                    #image = cv2.cvtColor(frame, cv2.COLOR_BGR2RGB)\n",
    "                    #print (face.shape)\n",
    "                    image = cv2.resize(face, (160, 160))\n",
    "                    face_array = np.asarray(image)\n",
    "                    face_pixels = face_array.astype('float32')\n",
    "                    mean, std = face_pixels.mean(), face_pixels.std()\n",
    "                    face_pixels  = (face_pixels - mean)/std\n",
    "                    samples = np.expand_dims(face_pixels, axis = 0)\n",
    "                    output = FaceNet.predict(samples)\n",
    "                    embeddings = np.asarray(output)\n",
    "                    embeddings_normalized = normalizer.transform(embeddings)\n",
    "                    prediction = SVM_model.predict(embeddings_normalized)\n",
    "                    prob = SVM_model.predict_proba(embeddings_normalized)\n",
    "                    predicted_name = name[prediction[0]]\n",
    "                    if predicted_name == 'Unknown':\n",
    "                        color = (0,0, 255)#Yellow\n",
    "                    else:\n",
    "                        color = (255,255,0) #aqua\n",
    "                    if predicted_name == 'Ben Afflek':\n",
    "                        predicted_name = 'Ben Affleck'\n",
    "                    font = cv2.FONT_HERSHEY_SIMPLEX\n",
    "                    org = (x1, y2 + 27 ) \n",
    "                    fontScale = 1\n",
    "                    thickness , font_1, text_add = font_size(width)\n",
    "                    image = cv2.rectangle(frame, start_point, end_point, color, thickness)\n",
    "                    image = cv2.putText(image, predicted_name, org, font, fontScale, \n",
    "                                        color, thickness, cv2.LINE_AA)\n",
    "            #cv2.imshow('frame',image)\n",
    "            out.write(image)\n",
    "        if cv2.waitKey(1) & 0xFF == ord('q'): \n",
    "            break\n",
    "    else:  \n",
    "        break\n",
    "\n",
    "# When everything is done, release the captura\n",
    "cap.release()\n",
    "out.release() \n",
    "cv2.destroyAllWindows() "
   ]
  },
  {
   "cell_type": "code",
   "execution_count": null,
   "metadata": {},
   "outputs": [],
   "source": []
  }
 ],
 "metadata": {
  "kernelspec": {
   "display_name": "Python 3",
   "language": "python",
   "name": "python3"
  },
  "language_info": {
   "codemirror_mode": {
    "name": "ipython",
    "version": 3
   },
   "file_extension": ".py",
   "mimetype": "text/x-python",
   "name": "python",
   "nbconvert_exporter": "python",
   "pygments_lexer": "ipython3",
   "version": "3.7.7"
  }
 },
 "nbformat": 4,
 "nbformat_minor": 4
}
